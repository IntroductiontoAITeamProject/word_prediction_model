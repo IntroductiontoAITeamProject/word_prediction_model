{
 "cells": [
  {
   "cell_type": "code",
   "execution_count": 9,
   "id": "5625deb1-009a-4d49-bd0c-3245b4ad0fe7",
   "metadata": {},
   "outputs": [],
   "source": [
    "from gensim.models import KeyedVectors\n"
   ]
  },
  {
   "cell_type": "code",
   "execution_count": 11,
   "id": "83f05249-c3b0-49d4-869b-784903cfd90c",
   "metadata": {},
   "outputs": [],
   "source": [
    "# 유사도 측정 함수\n",
    "def get_similarity(word1, word2):\n",
    "    if word1 not in model or word2 not in model:\n",
    "        return None  # OOV 처리\n",
    "    similarity = model.similarity(word1, word2)\n",
    "    return round(similarity * 100, 2)  # 0~1 → 0~100 점수화"
   ]
  },
  {
   "cell_type": "code",
   "execution_count": 15,
   "id": "cce3b56b-4740-4a5d-b1ab-cef76f7796a0",
   "metadata": {},
   "outputs": [
    {
     "name": "stdout",
     "output_type": "stream",
     "text": [
      "'사랑' 와 '연애' 의 유사도: 46.99%\n"
     ]
    }
   ],
   "source": [
    "model = KeyedVectors.load(\"cc.ko.300.kv\")\n",
    "\n",
    "# 예시 사용\n",
    "input_word = \"사랑\"\n",
    "answer_word = \"연애\"\n",
    "score = get_similarity(input_word, answer_word)\n",
    "\n",
    "if score is not None:\n",
    "    print(f\"'{input_word}' 와 '{answer_word}' 의 유사도: {score}%\")\n",
    "else:\n",
    "    print(\"단어 중 하나가 모델 어휘에 없습니다.\")"
   ]
  },
  {
   "cell_type": "code",
   "execution_count": null,
   "id": "3bd97e68-584f-417e-95ce-5bba8029ab06",
   "metadata": {},
   "outputs": [],
   "source": []
  }
 ],
 "metadata": {
  "kernelspec": {
   "display_name": "intro2ai",
   "language": "python",
   "name": "python3"
  },
  "language_info": {
   "codemirror_mode": {
    "name": "ipython",
    "version": 3
   },
   "file_extension": ".py",
   "mimetype": "text/x-python",
   "name": "python",
   "nbconvert_exporter": "python",
   "pygments_lexer": "ipython3",
   "version": "3.9.21"
  }
 },
 "nbformat": 4,
 "nbformat_minor": 5
}
