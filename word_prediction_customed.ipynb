{
 "cells": [
  {
   "cell_type": "code",
   "execution_count": 1,
   "id": "15966089",
   "metadata": {},
   "outputs": [],
   "source": [
    "import json\n",
    "import numpy as np\n",
    "from gensim.models import KeyedVectors\n",
    "import random"
   ]
  },
  {
   "cell_type": "code",
   "execution_count": 2,
   "id": "5e2eec5e",
   "metadata": {},
   "outputs": [],
   "source": [
    "model = KeyedVectors.load(\"wiktionary5800_custom.kv\")\n",
    "\n",
    "with open(\"korean_frequency.json\", encoding=\"utf-8\") as f:\n",
    "    data = json.load(f)"
   ]
  },
  {
   "cell_type": "code",
   "execution_count": 3,
   "id": "5c542a16",
   "metadata": {},
   "outputs": [],
   "source": [
    "word_list = sorted({w for group in data.values() for w in group if w in model})\n"
   ]
  },
  {
   "cell_type": "code",
   "execution_count": 4,
   "id": "31b9bd97",
   "metadata": {},
   "outputs": [],
   "source": [
    "def update_candidates(candidates, guess, similarity, tolerance=5.0):\n",
    "    new_candidates = []\n",
    "    for cand in candidates:\n",
    "        if cand in model and guess in model:\n",
    "            sim = model.similarity(cand, guess) * 100\n",
    "            if abs(sim - similarity) <= tolerance:\n",
    "                new_candidates.append(cand)\n",
    "    return new_candidates\n",
    "\n",
    "def select_best_guess(candidates, tried):\n",
    "    max_entropy = -1\n",
    "    best_word = None\n",
    "    for word in candidates:\n",
    "        if word not in model:\n",
    "            continue\n",
    "        sims = []\n",
    "        for other in tried:\n",
    "            if other in model:\n",
    "                sims.append(model.similarity(word, other))\n",
    "        entropy = -np.sum(np.log(np.clip(sims, 1e-5, 1))) if sims else 0\n",
    "        if entropy > max_entropy:\n",
    "            max_entropy = entropy\n",
    "            best_word = word\n",
    "    return best_word or random.choice(candidates)"
   ]
  },
  {
   "cell_type": "code",
   "execution_count": 5,
   "id": "f9d6aaee",
   "metadata": {},
   "outputs": [],
   "source": [
    "def simulate_game(answer, verbose=True, max_steps=20):\n",
    "    if answer not in model:\n",
    "        raise ValueError(f\"정답 '{answer}'이(가) 모델에 없습니다.\")\n",
    "\n",
    "    candidates = word_list.copy()\n",
    "    tried = []\n",
    "\n",
    "    for step in range(1, max_steps + 1):\n",
    "        guess = select_best_guess(candidates, tried)\n",
    "        tried.append(guess)\n",
    "\n",
    "        if guess == answer:\n",
    "            if verbose:\n",
    "                print(f\"✅ 정답 '{guess}'을 {step}번 만에 맞췄습니다!\")\n",
    "            return tried\n",
    "\n",
    "        similarity = model.similarity(guess, answer) * 100\n",
    "        if verbose:\n",
    "            print(f\"{step}. '{guess}' → 유사도: {similarity:.2f}\")\n",
    "\n",
    "        candidates = update_candidates(candidates, guess, similarity)\n",
    "\n",
    "    if verbose:\n",
    "        print(f\"❌ 실패: {max_steps}회 이내에 정답을 못 맞힘\")\n",
    "    return tried"
   ]
  },
  {
   "cell_type": "code",
   "execution_count": 7,
   "id": "5a7ec39e",
   "metadata": {},
   "outputs": [
    {
     "name": "stdout",
     "output_type": "stream",
     "text": [
      "1. '가게' → 유사도: 77.55\n",
      "2. '발걸음' → 유사도: 84.91\n",
      "3. '꿈속' → 유사도: 78.08\n",
      "4. '바깥' → 유사도: 79.91\n",
      "5. '운동화' → 유사도: 81.25\n",
      "6. '묶다' → 유사도: 86.08\n",
      "7. '전문직' → 유사도: 86.77\n",
      "8. '어머님' → 유사도: 85.95\n",
      "9. '꾸미다' → 유사도: 84.91\n",
      "10. '인형' → 유사도: 91.21\n",
      "11. '소시지' → 유사도: 86.95\n",
      "12. '과외' → 유사도: 88.55\n",
      "13. '쓰이다' → 유사도: 86.47\n",
      "14. '반갑다' → 유사도: 92.62\n",
      "15. '되돌리다' → 유사도: 92.70\n",
      "16. '바깥쪽' → 유사도: 93.08\n",
      "17. '신세' → 유사도: 93.12\n",
      "18. '쩔쩔매다' → 유사도: 93.48\n",
      "19. '독특하다' → 유사도: 93.46\n",
      "20. '양배추' → 유사도: 94.96\n",
      "21. '부러지다' → 유사도: 94.63\n",
      "✅ 정답 '사랑스럽다'을 22번 만에 맞췄습니다!\n"
     ]
    },
    {
     "data": {
      "text/plain": [
       "['가게',\n",
       " '발걸음',\n",
       " '꿈속',\n",
       " '바깥',\n",
       " '운동화',\n",
       " '묶다',\n",
       " '전문직',\n",
       " '어머님',\n",
       " '꾸미다',\n",
       " '인형',\n",
       " '소시지',\n",
       " '과외',\n",
       " '쓰이다',\n",
       " '반갑다',\n",
       " '되돌리다',\n",
       " '바깥쪽',\n",
       " '신세',\n",
       " '쩔쩔매다',\n",
       " '독특하다',\n",
       " '양배추',\n",
       " '부러지다',\n",
       " '사랑스럽다']"
      ]
     },
     "execution_count": 7,
     "metadata": {},
     "output_type": "execute_result"
    }
   ],
   "source": [
    "simulate_game(\"사랑스럽다\", max_steps=100)"
   ]
  }
 ],
 "metadata": {
  "kernelspec": {
   "display_name": "base",
   "language": "python",
   "name": "python3"
  },
  "language_info": {
   "codemirror_mode": {
    "name": "ipython",
    "version": 3
   },
   "file_extension": ".py",
   "mimetype": "text/x-python",
   "name": "python",
   "nbconvert_exporter": "python",
   "pygments_lexer": "ipython3",
   "version": "3.12.7"
  }
 },
 "nbformat": 4,
 "nbformat_minor": 5
}
