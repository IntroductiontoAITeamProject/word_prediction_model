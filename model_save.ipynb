{
 "cells": [
  {
   "cell_type": "code",
   "execution_count": 6,
   "id": "3245a805-9df8-4721-90be-192edcee49e8",
   "metadata": {},
   "outputs": [],
   "source": [
    "from gensim.models import KeyedVectors\n",
    "\n",
    "# 벡터 파일 로드 (텍스트 형식이라 binary=False)\n",
    "model = KeyedVectors.load_word2vec_format(\"cc.ko.300.vec/cc.ko.300.vec\", binary=False, encoding='utf-8', unicode_errors='ignore')"
   ]
  },
  {
   "cell_type": "code",
   "execution_count": 8,
   "id": "3f389832-a2ed-4fe2-b893-849f00a0df1b",
   "metadata": {},
   "outputs": [],
   "source": [
    "model.save(\"cc.ko.300.kv\")"
   ]
  }
 ],
 "metadata": {
  "kernelspec": {
   "display_name": "Python [conda env:base] *",
   "language": "python",
   "name": "conda-base-py"
  },
  "language_info": {
   "codemirror_mode": {
    "name": "ipython",
    "version": 3
   },
   "file_extension": ".py",
   "mimetype": "text/x-python",
   "name": "python",
   "nbconvert_exporter": "python",
   "pygments_lexer": "ipython3",
   "version": "3.12.7"
  }
 },
 "nbformat": 4,
 "nbformat_minor": 5
}
